{
    "metadata": {
        "kernelspec": {
            "name": "SQL",
            "display_name": "SQL",
            "language": "sql"
        },
        "language_info": {
            "name": "sql",
            "version": ""
        }
    },
    "nbformat_minor": 2,
    "nbformat": 4,
    "cells": [
        {
            "cell_type": "markdown",
            "source": [
                "# Exercises\n",
                "\n",
                "To get started with the exercises, go ahead and take a look at RideShareDB. This database was created with data from a dataset on [Kaggle](https://www.kaggle.com/fivethirtyeight/uber-pickups-in-new-york-city). The dataset was made using data obtained from the NYC Taxi and Limosine Commission or TLC. TLC tracks this data by base and even rideshare companies such as Uber and Lyft have assigned bases that each pickup must be attributed to. For the exercises, we will be using the `other-FHV-services-jan-july15` and `lyft` tables in RideShareDB. These tables include the data for each pickup attributed to a few other For-Hire Vehicles (FHV) services and Lyft. These tables do not include any data from Uber.\n",
                "\n",
                "## String Functions\n",
                "\n",
                "Write a query that returns the last 3 characters of the base name in `other-FHV-services-jan-july15`. Do you see anything that is a common abbreviation at the end of business names?"
            ],
            "metadata": {
                "azdata_cell_guid": "2b5a5976-8b51-4e24-a08d-234ef97f379a"
            },
            "attachments": {}
        },
        {
            "cell_type": "code",
            "source": [
                "SELECT TOP 5 Base_Name, RIGHT(Base_Name, 3) AS 'Name'\r\n",
                "FROM RideShareDB.dbo.other_FHV_services_jan_aug_2015\r\n",
                "ORDER BY Base_Name;"
            ],
            "metadata": {
                "azdata_cell_guid": "702b8819-63da-47e9-91b1-d4b13c37d601",
                "language": "sql"
            },
            "outputs": [
                {
                    "output_type": "display_data",
                    "data": {
                        "text/html": "(5 rows affected)"
                    },
                    "metadata": {}
                },
                {
                    "output_type": "display_data",
                    "data": {
                        "text/html": "Total execution time: 00:00:00.060"
                    },
                    "metadata": {}
                },
                {
                    "output_type": "execute_result",
                    "metadata": {},
                    "execution_count": 34,
                    "data": {
                        "application/vnd.dataresource+json": {
                            "schema": {
                                "fields": [
                                    {
                                        "name": "Base_Name"
                                    },
                                    {
                                        "name": "Name"
                                    }
                                ]
                            },
                            "data": [
                                {
                                    "0": "12TH STREET LUXURY CARS, INC.",
                                    "1": "NC."
                                },
                                {
                                    "0": "12TH STREET LUXURY CARS, INC.",
                                    "1": "NC."
                                },
                                {
                                    "0": "12TH STREET LUXURY CARS, INC.",
                                    "1": "NC."
                                },
                                {
                                    "0": "12TH STREET LUXURY CARS, INC.",
                                    "1": "NC."
                                },
                                {
                                    "0": "12TH STREET LUXURY CARS, INC.",
                                    "1": "NC."
                                }
                            ]
                        },
                        "text/html": [
                            "<table>",
                            "<tr><th>Base_Name</th><th>Name</th></tr>",
                            "<tr><td>12TH STREET LUXURY CARS, INC.</td><td>NC.</td></tr>",
                            "<tr><td>12TH STREET LUXURY CARS, INC.</td><td>NC.</td></tr>",
                            "<tr><td>12TH STREET LUXURY CARS, INC.</td><td>NC.</td></tr>",
                            "<tr><td>12TH STREET LUXURY CARS, INC.</td><td>NC.</td></tr>",
                            "<tr><td>12TH STREET LUXURY CARS, INC.</td><td>NC.</td></tr>",
                            "</table>"
                        ]
                    }
                }
            ],
            "execution_count": 34
        },
        {
            "cell_type": "markdown",
            "source": [
                "The number of trips and the number of pickups are both stored as strings in `other-FHV-services-jan-july15`. This is because the data provided included spaces in some of the numbers. Write a query that returns the location of spaces in both of these columns."
            ],
            "metadata": {
                "azdata_cell_guid": "6c206898-77f4-4357-8d17-33192980f45d"
            },
            "attachments": {}
        },
        {
            "cell_type": "code",
            "source": [
                "SELECT \r\n",
                "    TOP 5 \r\n",
                "    CHARINDEX(' ', [Number_of_Trips]) AS 'Space in # of Trips', \r\n",
                "    CHARINDEX(' ',[Number_of_Vehicles]) AS 'Space in # of Vehicles'\r\n",
                "FROM RideShareDB.dbo.other_FHV_services_jan_aug_2015\r\n",
                "\r\n",
                "\r\n",
                ""
            ],
            "metadata": {
                "azdata_cell_guid": "3c810c3d-4e66-447b-8326-19e59d8a1b88",
                "language": "sql",
                "tags": []
            },
            "outputs": [
                {
                    "output_type": "display_data",
                    "data": {
                        "text/html": "(5 rows affected)"
                    },
                    "metadata": {}
                },
                {
                    "output_type": "display_data",
                    "data": {
                        "text/html": "Total execution time: 00:00:00.044"
                    },
                    "metadata": {}
                },
                {
                    "output_type": "execute_result",
                    "metadata": {},
                    "execution_count": 35,
                    "data": {
                        "application/vnd.dataresource+json": {
                            "schema": {
                                "fields": [
                                    {
                                        "name": "Space in # of Trips"
                                    },
                                    {
                                        "name": "Space in # of Vehicles"
                                    }
                                ]
                            },
                            "data": [
                                {
                                    "0": "3",
                                    "1": "3"
                                },
                                {
                                    "0": "3",
                                    "1": "3"
                                },
                                {
                                    "0": "4",
                                    "1": "3"
                                },
                                {
                                    "0": "3",
                                    "1": "2"
                                },
                                {
                                    "0": "4",
                                    "1": "3"
                                }
                            ]
                        },
                        "text/html": [
                            "<table>",
                            "<tr><th>Space in # of Trips</th><th>Space in # of Vehicles</th></tr>",
                            "<tr><td>3</td><td>3</td></tr>",
                            "<tr><td>3</td><td>3</td></tr>",
                            "<tr><td>4</td><td>3</td></tr>",
                            "<tr><td>3</td><td>2</td></tr>",
                            "<tr><td>4</td><td>3</td></tr>",
                            "</table>"
                        ]
                    }
                }
            ],
            "execution_count": 35
        },
        {
            "cell_type": "markdown",
            "source": [
                "## Date Functions\n",
                "\n",
                "For ``other-FHV-services-jan-july15``, display the name of month of the pickup date and order in descending order. Is the result of this query what you expected?"
            ],
            "metadata": {
                "azdata_cell_guid": "b138ac53-9fff-4320-9ff1-08717873f2ee"
            },
            "attachments": {}
        },
        {
            "cell_type": "code",
            "source": [
                "SELECT TOP 5 DATENAME(month, Pick_Up_Date) AS 'Pick Up Month Desc.'\r\n",
                "FROM RideShareDB.dbo.other_FHV_services_jan_aug_2015\r\n",
                "ORDER BY Pick_Up_Date DESC;\r\n",
                ""
            ],
            "metadata": {
                "azdata_cell_guid": "8abd404c-a360-4b10-8d6b-8b34ef763bc7",
                "tags": [],
                "language": "sql"
            },
            "outputs": [
                {
                    "output_type": "display_data",
                    "data": {
                        "text/html": "(5 rows affected)"
                    },
                    "metadata": {}
                },
                {
                    "output_type": "display_data",
                    "data": {
                        "text/html": "Total execution time: 00:00:00.057"
                    },
                    "metadata": {}
                },
                {
                    "output_type": "execute_result",
                    "metadata": {},
                    "execution_count": 36,
                    "data": {
                        "application/vnd.dataresource+json": {
                            "schema": {
                                "fields": [
                                    {
                                        "name": "Pick Up Month Desc."
                                    }
                                ]
                            },
                            "data": [
                                {
                                    "0": "August"
                                },
                                {
                                    "0": "August"
                                },
                                {
                                    "0": "August"
                                },
                                {
                                    "0": "August"
                                },
                                {
                                    "0": "August"
                                }
                            ]
                        },
                        "text/html": [
                            "<table>",
                            "<tr><th>Pick Up Month Desc.</th></tr>",
                            "<tr><td>August</td></tr>",
                            "<tr><td>August</td></tr>",
                            "<tr><td>August</td></tr>",
                            "<tr><td>August</td></tr>",
                            "<tr><td>August</td></tr>",
                            "</table>"
                        ]
                    }
                }
            ],
            "execution_count": 36
        },
        {
            "cell_type": "markdown",
            "source": [
                "Using `other-FHV-services-jan-july15`, write a query that returns the day number of the pickup date and month name and orders it in ascending order by day number."
            ],
            "metadata": {
                "azdata_cell_guid": "aa6bf15c-b847-45f0-ba0d-79c7636c4578"
            },
            "attachments": {}
        },
        {
            "cell_type": "code",
            "source": [
                "SELECT \r\n",
                "    TOP 5 \r\n",
                "    DATENAME(day, Pick_Up_Date) AS 'Day of Pickup' , \r\n",
                "    DATENAME(month, Pick_Up_Date) AS 'Month of PickUp'\r\n",
                "FROM \r\n",
                "    RideShareDB.dbo.other_FHV_services_jan_aug_2015\r\n",
                "ORDER BY \r\n",
                "    Pick_Up_Date;"
            ],
            "metadata": {
                "azdata_cell_guid": "46dcd617-8dcf-4c15-b5fa-c0ec04f2bf29",
                "language": "sql"
            },
            "outputs": [
                {
                    "output_type": "display_data",
                    "data": {
                        "text/html": "(5 rows affected)"
                    },
                    "metadata": {}
                },
                {
                    "output_type": "display_data",
                    "data": {
                        "text/html": "Total execution time: 00:00:00.051"
                    },
                    "metadata": {}
                },
                {
                    "output_type": "execute_result",
                    "metadata": {},
                    "execution_count": 37,
                    "data": {
                        "application/vnd.dataresource+json": {
                            "schema": {
                                "fields": [
                                    {
                                        "name": "Day of Pickup"
                                    },
                                    {
                                        "name": "Month of PickUp"
                                    }
                                ]
                            },
                            "data": [
                                {
                                    "0": "1",
                                    "1": "January"
                                },
                                {
                                    "0": "1",
                                    "1": "January"
                                },
                                {
                                    "0": "1",
                                    "1": "January"
                                },
                                {
                                    "0": "1",
                                    "1": "January"
                                },
                                {
                                    "0": "1",
                                    "1": "January"
                                }
                            ]
                        },
                        "text/html": [
                            "<table>",
                            "<tr><th>Day of Pickup</th><th>Month of PickUp</th></tr>",
                            "<tr><td>1</td><td>January</td></tr>",
                            "<tr><td>1</td><td>January</td></tr>",
                            "<tr><td>1</td><td>January</td></tr>",
                            "<tr><td>1</td><td>January</td></tr>",
                            "<tr><td>1</td><td>January</td></tr>",
                            "</table>"
                        ]
                    }
                }
            ],
            "execution_count": 37
        },
        {
            "cell_type": "markdown",
            "source": [
                "## Aggregate Functions\n",
                "\n",
                "Write a query that returns the most easterly Lyft pickup."
            ],
            "metadata": {
                "azdata_cell_guid": "348342a2-6039-43b1-8461-841288deee94"
            },
            "attachments": {}
        },
        {
            "cell_type": "code",
            "source": [
                "-- Preview Lyft Table\r\n",
                "SELECT \r\n",
                "    TOP 5 *\r\n",
                "FROM RideShareDB.dbo.lyft;\r\n",
                ""
            ],
            "metadata": {
                "azdata_cell_guid": "69ae9c8d-4dba-4cea-b473-ec05e421e24e",
                "language": "sql"
            },
            "outputs": [
                {
                    "output_type": "display_data",
                    "data": {
                        "text/html": "(5 rows affected)"
                    },
                    "metadata": {}
                },
                {
                    "output_type": "display_data",
                    "data": {
                        "text/html": "Total execution time: 00:00:00.044"
                    },
                    "metadata": {}
                },
                {
                    "output_type": "execute_result",
                    "metadata": {},
                    "execution_count": 38,
                    "data": {
                        "application/vnd.dataresource+json": {
                            "schema": {
                                "fields": [
                                    {
                                        "name": "time_of_trip"
                                    },
                                    {
                                        "name": "start_lat"
                                    },
                                    {
                                        "name": "start_lng"
                                    }
                                ]
                            },
                            "data": [
                                {
                                    "0": "2014-09-04 09:51:00.0000000",
                                    "1": "40.64705",
                                    "2": "-73.77988"
                                },
                                {
                                    "0": "2014-08-27 21:13:00.0000000",
                                    "1": "40.74916",
                                    "2": "-73.98373"
                                },
                                {
                                    "0": "2014-09-04 14:16:00.0000000",
                                    "1": "40.64065",
                                    "2": "-73.97594"
                                },
                                {
                                    "0": "2014-09-04 16:08:00.0000000",
                                    "1": "40.75002",
                                    "2": "-73.99514"
                                },
                                {
                                    "0": "2014-08-28 02:41:00.0000000",
                                    "1": "40.76715",
                                    "2": "-73.98636"
                                }
                            ]
                        },
                        "text/html": [
                            "<table>",
                            "<tr><th>time_of_trip</th><th>start_lat</th><th>start_lng</th></tr>",
                            "<tr><td>2014-09-04 09:51:00.0000000</td><td>40.64705</td><td>-73.77988</td></tr>",
                            "<tr><td>2014-08-27 21:13:00.0000000</td><td>40.74916</td><td>-73.98373</td></tr>",
                            "<tr><td>2014-09-04 14:16:00.0000000</td><td>40.64065</td><td>-73.97594</td></tr>",
                            "<tr><td>2014-09-04 16:08:00.0000000</td><td>40.75002</td><td>-73.99514</td></tr>",
                            "<tr><td>2014-08-28 02:41:00.0000000</td><td>40.76715</td><td>-73.98636</td></tr>",
                            "</table>"
                        ]
                    }
                }
            ],
            "execution_count": 38
        },
        {
            "cell_type": "code",
            "source": [
                "SELECT \r\n",
                "    MAX(start_lat) AS 'Most Eastern Pickup'\r\n",
                "FROM RideShareDB.dbo.lyft;\r\n",
                "\r\n",
                ""
            ],
            "metadata": {
                "azdata_cell_guid": "f2cb1b41-c92a-47ea-bd77-7bafd78af1d4",
                "tags": [],
                "language": "sql"
            },
            "outputs": [
                {
                    "output_type": "display_data",
                    "data": {
                        "text/html": "Warning: Null value is eliminated by an aggregate or other SET operation."
                    },
                    "metadata": {}
                },
                {
                    "output_type": "display_data",
                    "data": {
                        "text/html": "(1 row affected)"
                    },
                    "metadata": {}
                },
                {
                    "output_type": "display_data",
                    "data": {
                        "text/html": "Total execution time: 00:00:00.075"
                    },
                    "metadata": {}
                },
                {
                    "output_type": "execute_result",
                    "metadata": {},
                    "execution_count": 39,
                    "data": {
                        "application/vnd.dataresource+json": {
                            "schema": {
                                "fields": [
                                    {
                                        "name": "Most Eastern Pickup"
                                    }
                                ]
                            },
                            "data": [
                                {
                                    "0": "40.93562"
                                }
                            ]
                        },
                        "text/html": [
                            "<table>",
                            "<tr><th>Most Eastern Pickup</th></tr>",
                            "<tr><td>40.93562</td></tr>",
                            "</table>"
                        ]
                    }
                }
            ],
            "execution_count": 39
        },
        {
            "cell_type": "markdown",
            "source": [
                "Write a query the returns the most northerly Lyft pickup."
            ],
            "metadata": {
                "azdata_cell_guid": "bd589862-044d-4909-8565-8aa4771d9c00"
            },
            "attachments": {}
        },
        {
            "cell_type": "code",
            "source": [
                "SELECT MAX(start_lng) AS 'Most Northern Pickup'\r\n",
                "FROM  RideShareDB.dbo.lyft;"
            ],
            "metadata": {
                "azdata_cell_guid": "189b7c25-0dfa-4ca0-a683-d402b3875abd",
                "language": "sql"
            },
            "outputs": [
                {
                    "output_type": "display_data",
                    "data": {
                        "text/html": "Warning: Null value is eliminated by an aggregate or other SET operation."
                    },
                    "metadata": {}
                },
                {
                    "output_type": "display_data",
                    "data": {
                        "text/html": "(1 row affected)"
                    },
                    "metadata": {}
                },
                {
                    "output_type": "display_data",
                    "data": {
                        "text/html": "Total execution time: 00:00:00.101"
                    },
                    "metadata": {}
                },
                {
                    "output_type": "execute_result",
                    "metadata": {},
                    "execution_count": 40,
                    "data": {
                        "application/vnd.dataresource+json": {
                            "schema": {
                                "fields": [
                                    {
                                        "name": "Most Northern Pickup"
                                    }
                                ]
                            },
                            "data": [
                                {
                                    "0": "-73.72315"
                                }
                            ]
                        },
                        "text/html": [
                            "<table>",
                            "<tr><th>Most Northern Pickup</th></tr>",
                            "<tr><td>-73.72315</td></tr>",
                            "</table>"
                        ]
                    }
                }
            ],
            "execution_count": 40
        },
        {
            "cell_type": "markdown",
            "source": [
                "Using ``other-FHV-services-jan-july15``, write a query that connects the the base number and the base name in a string that uses the following format: base\\_number: base\\_name."
            ],
            "metadata": {
                "azdata_cell_guid": "674f8758-14bf-4712-b029-0ad0447617fb"
            },
            "attachments": {}
        },
        {
            "cell_type": "code",
            "source": [
                "SELECT \r\n",
                "    TOP 5\r\n",
                "    CONCAT_WS(':', [Base_Number], [Base_Name]) AS 'Base Number : Base Name'\r\n",
                "FROM RideShareDB.dbo.other_FHV_services_jan_aug_2015;"
            ],
            "metadata": {
                "azdata_cell_guid": "f6f4b247-63c0-4997-8769-204e37a55c08",
                "language": "sql"
            },
            "outputs": [
                {
                    "output_type": "display_data",
                    "data": {
                        "text/html": "(5 rows affected)"
                    },
                    "metadata": {}
                },
                {
                    "output_type": "display_data",
                    "data": {
                        "text/html": "Total execution time: 00:00:00.042"
                    },
                    "metadata": {}
                },
                {
                    "output_type": "execute_result",
                    "metadata": {},
                    "execution_count": 41,
                    "data": {
                        "application/vnd.dataresource+json": {
                            "schema": {
                                "fields": [
                                    {
                                        "name": "Base Number : Base Name"
                                    }
                                ]
                            },
                            "data": [
                                {
                                    "0": "B00013:LOVE CORP CAR INC"
                                },
                                {
                                    "0": "B00014:NY ONE CORP CAR INC"
                                },
                                {
                                    "0": "B00029:COMMUNITY CAR SVC CORP"
                                },
                                {
                                    "0": "B00053:CHARGE AND RIDE INC"
                                },
                                {
                                    "0": "B00095:LIBERTY CAR SERVICE INC."
                                }
                            ]
                        },
                        "text/html": [
                            "<table>",
                            "<tr><th>Base Number : Base Name</th></tr>",
                            "<tr><td>B00013:LOVE CORP CAR INC</td></tr>",
                            "<tr><td>B00014:NY ONE CORP CAR INC</td></tr>",
                            "<tr><td>B00029:COMMUNITY CAR SVC CORP</td></tr>",
                            "<tr><td>B00053:CHARGE AND RIDE INC</td></tr>",
                            "<tr><td>B00095:LIBERTY CAR SERVICE INC.</td></tr>",
                            "</table>"
                        ]
                    }
                }
            ],
            "execution_count": 41
        }
    ]
}